{
 "cells": [
  {
   "cell_type": "markdown",
   "metadata": {},
   "source": [
    "# Arithmatic Operators "
   ]
  },
  {
   "cell_type": "code",
   "execution_count": 15,
   "metadata": {},
   "outputs": [
    {
     "name": "stdout",
     "output_type": "stream",
     "text": [
      "5\n",
      "25\n"
     ]
    }
   ],
   "source": [
    "x = int(input())\n",
    "print(x ** 2)\n"
   ]
  },
  {
   "cell_type": "code",
   "execution_count": 18,
   "metadata": {},
   "outputs": [
    {
     "name": "stdout",
     "output_type": "stream",
     "text": [
      "0\n",
      "0.42857142857142855\n"
     ]
    }
   ],
   "source": [
    "print(3 // 7)\n",
    "print(3 / 7)\n",
    "     "
   ]
  },
  {
   "cell_type": "code",
   "execution_count": 19,
   "metadata": {},
   "outputs": [
    {
     "name": "stdout",
     "output_type": "stream",
     "text": [
      "1\n"
     ]
    }
   ],
   "source": [
    "print(3 ^ 2)               ###Bitwise Operator"
   ]
  },
  {
   "cell_type": "markdown",
   "metadata": {},
   "source": [
    "# Type"
   ]
  },
  {
   "cell_type": "code",
   "execution_count": 22,
   "metadata": {},
   "outputs": [
    {
     "name": "stdout",
     "output_type": "stream",
     "text": [
      "<class 'float'>\n",
      "<class 'int'>\n"
     ]
    }
   ],
   "source": [
    "print(type(3.0))\n",
    "print(type(3))\n"
   ]
  },
  {
   "cell_type": "markdown",
   "metadata": {},
   "source": [
    "# Boolean"
   ]
  },
  {
   "cell_type": "code",
   "execution_count": 26,
   "metadata": {},
   "outputs": [
    {
     "name": "stdout",
     "output_type": "stream",
     "text": [
      "False\n"
     ]
    }
   ],
   "source": [
    "sf_population, sf_area = 864816, 231.89\n",
    "rio_population, rio_area = 6453682, 486.5\n",
    "\n",
    "san_francisco_pop_density = sf_population/sf_area\n",
    "rio_de_janeiro_pop_density = rio_population/rio_area\n",
    "\n",
    "result = san_francisco_pop_density > rio_de_janeiro_pop_density\n",
    "print(result)"
   ]
  },
  {
   "cell_type": "markdown",
   "metadata": {},
   "source": [
    "# Strings"
   ]
  },
  {
   "cell_type": "code",
   "execution_count": 28,
   "metadata": {},
   "outputs": [
    {
     "name": "stdout",
     "output_type": "stream",
     "text": [
      "Whether you think you can, or you think you can't--you're right.\n"
     ]
    }
   ],
   "source": [
    "ford_quote = 'Whether you think you can, or you think you can\\'t--you\\'re right.'\n",
    "print(ford_quote)"
   ]
  },
  {
   "cell_type": "markdown",
   "metadata": {},
   "source": [
    "# Type Casting"
   ]
  },
  {
   "cell_type": "code",
   "execution_count": 25,
   "metadata": {},
   "outputs": [
    {
     "name": "stdout",
     "output_type": "stream",
     "text": [
      "529\n",
      "This week's total sales:529\n"
     ]
    }
   ],
   "source": [
    "mon_sales = \"121\"\n",
    "tues_sales = \"105\"\n",
    "wed_sales = \"110\"\n",
    "thurs_sales = \"98\"\n",
    "fri_sales = \"95\"\n",
    "\n",
    "total_sales = int(mon_sales) + int(tues_sales) + int(wed_sales) + int(thurs_sales) + int(fri_sales)\n",
    "print(total_sales)\n",
    "print(\"This week's total sales:\" +  str(total_sales))"
   ]
  },
  {
   "cell_type": "markdown",
   "metadata": {},
   "source": [
    "# String Methods"
   ]
  },
  {
   "cell_type": "code",
   "execution_count": 29,
   "metadata": {},
   "outputs": [
    {
     "data": {
      "text/plain": [
       "4"
      ]
     },
     "execution_count": 29,
     "metadata": {},
     "output_type": "execute_result"
    }
   ],
   "source": [
    "len('this')"
   ]
  },
  {
   "cell_type": "code",
   "execution_count": 30,
   "metadata": {},
   "outputs": [
    {
     "name": "stdout",
     "output_type": "stream",
     "text": [
      "Does your dog bite?\n"
     ]
    }
   ],
   "source": [
    "animal = \"dog\"\n",
    "action = \"bite\"\n",
    "print(\"Does your {} {}?\".format(animal, action))"
   ]
  },
  {
   "cell_type": "markdown",
   "metadata": {},
   "source": [
    "# if-else-elif statements"
   ]
  },
  {
   "cell_type": "code",
   "execution_count": 35,
   "metadata": {},
   "outputs": [
    {
     "name": "stdout",
     "output_type": "stream",
     "text": [
      "4\n",
      "3\n",
      "4 is less than 9\n"
     ]
    }
   ],
   "source": [
    "x=int(input())\n",
    "y=int(input())\n",
    "if x<y:\n",
    "    print('{} is less than {}'.format(str(x),str(y)))\n",
    "elif x<y**2:\n",
    "    print('{} is less than {}'.format(str(x),str(y**2)))\n",
    "else:\n",
    "    print('Whatever you want to print.')"
   ]
  },
  {
   "cell_type": "code",
   "execution_count": 36,
   "metadata": {},
   "outputs": [
    {
     "name": "stdout",
     "output_type": "stream",
     "text": [
      "8 is less than 9\n",
      "64 is less than 81\n"
     ]
    }
   ],
   "source": [
    "x=8\n",
    "y=9\n",
    "if x<y:\n",
    "    print('{} is less than {}'.format(str(x),str(y)))\n",
    "if x**2<y**2:\n",
    "    print ('{} is less than {}'.format(str(x**2),str(y**2)))"
   ]
  },
  {
   "cell_type": "markdown",
   "metadata": {},
   "source": [
    "# For Loop - While Loop"
   ]
  },
  {
   "cell_type": "code",
   "execution_count": 37,
   "metadata": {},
   "outputs": [
    {
     "name": "stdout",
     "output_type": "stream",
     "text": [
      "['joey_tribbiani', 'monica_geller', 'chandler_bing', 'phoebe_buffay']\n"
     ]
    }
   ],
   "source": [
    "names = [\"Joey Tribbiani\", \"Monica Geller\", \"Chandler Bing\", \"Phoebe Buffay\"]\n",
    "usernames = []\n",
    "\n",
    "for name in names:\n",
    "    usernames.append(name.lower().replace(\" \", \"_\"))\n",
    "\n",
    "print(usernames)"
   ]
  },
  {
   "cell_type": "code",
   "execution_count": 39,
   "metadata": {},
   "outputs": [
    {
     "name": "stdout",
     "output_type": "stream",
     "text": [
      "2 week(s) and 1 day(s).\n"
     ]
    }
   ],
   "source": [
    "# write your function here\n",
    "\n",
    "def readable_timedelta(days):\n",
    "    weeks = days // 7\n",
    "    remainder = days % 7\n",
    "    return \"{} week(s) and {} day(s).\".format(weeks, remainder)\n",
    "\n",
    "# test your function\n",
    "print(readable_timedelta(15))"
   ]
  },
  {
   "cell_type": "code",
   "execution_count": 48,
   "metadata": {},
   "outputs": [
    {
     "name": "stdout",
     "output_type": "stream",
     "text": [
      "720\n"
     ]
    }
   ],
   "source": [
    "number = 6   \n",
    "product = number\n",
    "while  number > 1:\n",
    "    number -= 1\n",
    "    product *= number\n",
    "\n",
    "print(product)"
   ]
  },
  {
   "cell_type": "markdown",
   "metadata": {},
   "source": [
    "# Variable Scope"
   ]
  },
  {
   "cell_type": "code",
   "execution_count": 41,
   "metadata": {},
   "outputs": [
    {
     "name": "stdout",
     "output_type": "stream",
     "text": [
      "12\n"
     ]
    }
   ],
   "source": [
    "egg_count = 0\n",
    "\n",
    "def buy_eggs(count):\n",
    "    return count + 12  # purchase a dozen eggs\n",
    "\n",
    "egg_count = buy_eggs(egg_count)\n",
    "print(egg_count)"
   ]
  },
  {
   "cell_type": "markdown",
   "metadata": {},
   "source": [
    "# Import "
   ]
  },
  {
   "cell_type": "code",
   "execution_count": 51,
   "metadata": {},
   "outputs": [],
   "source": [
    "import numpy as np\n",
    "import random"
   ]
  },
  {
   "cell_type": "code",
   "execution_count": 52,
   "metadata": {},
   "outputs": [
    {
     "name": "stdout",
     "output_type": "stream",
     "text": [
      "[[-1723749600         422  1917581440]\n",
      " [          0           2           0]\n",
      " [         -1          -1           0]]\n"
     ]
    }
   ],
   "source": [
    "list=np.empty([3,3],dtype=int)\n",
    "print (list)"
   ]
  },
  {
   "cell_type": "code",
   "execution_count": 61,
   "metadata": {},
   "outputs": [
    {
     "name": "stdout",
     "output_type": "stream",
     "text": [
      "5\n"
     ]
    }
   ],
   "source": [
    "X=np.random.randint(0,9)\n",
    "print (X)"
   ]
  },
  {
   "cell_type": "code",
   "execution_count": 63,
   "metadata": {},
   "outputs": [],
   "source": [
    "import matplotlib.pyplot as plt"
   ]
  },
  {
   "cell_type": "code",
   "execution_count": 64,
   "metadata": {},
   "outputs": [
    {
     "data": {
      "image/png": "[encoded data removed]",
      "text/plain": [
       "<Figure size 432x288 with 1 Axes>"
      ]
     },
     "metadata": {},
     "output_type": "display_data"
    }
   ],
   "source": [
    "year = [2000, 2001, 2002, 2003, 2004, 2005]\n",
    "pop = [2, 3, 4, 5, 6, 7]\n",
    "plt.plot(year, pop)\n",
    "plt.show()"
   ]
  },
  {
   "cell_type": "code",
   "execution_count": 1,
   "metadata": {},
   "outputs": [],
   "source": [
    "import os"
   ]
  },
  {
   "cell_type": "code",
   "execution_count": 2,
   "metadata": {},
   "outputs": [
    {
     "name": "stdout",
     "output_type": "stream",
     "text": [
      "['.DS_Store', '0beijing.jpg', '0san diego.jpg', 'athens.jpg', 'austin.jpg', 'bangalore.jpg', 'barcelona.jpg', 'berkeley.jpg', 'bogota.jpg', 'bristol.jpg', 'bucharest.jpg', 'buenos aires.jpg', 'cairo.jpg', 'chennai.jpg', 'chicago.jpg', 'colombo.jpg', 'dallas.jpg', 'delhi.jpg', 'edinbrugh.jpg', 'gainesville.jpg', 'houston.jpg', 'hyderabad.jpg', 'istanbul.jpg', 'ithaca.jpg', 'jacksonville.jpg', 'karachi.jpg', 'kiev.jpg', 'london.jpg', 'los angeles.jpg', 'madrid.jpg', 'manchester.jpg', 'miami.jpg', 'new york.jpg', 'oakland.jpg', 'pune.jpg', 'rochester.jpg', 'san jose.jpg', 'sao paulo.jpg', 'seattle.jpg', 'seoul.jpg', 'shanghai.jpg', 'singapore.jpg', 'sunnyvale.jpg', 'sydney.jpg', 'tel aviv.jpg']\n",
      "Current working Directory isD:\\Pyhton\\JUPYTER\n"
     ]
    }
   ],
   "source": [
    "def rename_files():\n",
    "#     # get files names from a folder\n",
    "    file_list = os.listdir(r\"D:\\Pyhton\\JUPYTER\\images\\prank\")\n",
    "    print(file_list)\n",
    "    saved_path = os.getcwd()\n",
    "    print (\"Current working Directory is\"+saved_path)\n",
    "    os.chdir(r\"D:\\Pyhton\\JUPYTER\\images\\prank\")\n",
    "    remove=\"123456789\"    \n",
    "    table=str.maketrans(\"\",\"\",remove)    \n",
    "    for file_name in file_list:    \n",
    "        os.rename(file_name,file_name.translate(table))    \n",
    "\n",
    "        \n",
    "rename_files()"
   ]
  },
  {
   "cell_type": "code",
   "execution_count": null,
   "metadata": {},
   "outputs": [],
   "source": []
  }
 ],
 "metadata": {
  "kernelspec": {
   "display_name": "Python 3",
   "language": "python",
   "name": "python3"
  },
  "language_info": {
   "codemirror_mode": {
    "name": "ipython",
    "version": 3
   },
   "file_extension": ".py",
   "mimetype": "text/x-python",
   "name": "python",
   "nbconvert_exporter": "python",
   "pygments_lexer": "ipython3",
   "version": "3.6.6"
  }
 },
 "nbformat": 4,
 "nbformat_minor": 2
}
